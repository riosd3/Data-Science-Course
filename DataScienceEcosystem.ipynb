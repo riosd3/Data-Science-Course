{
 "cells": [
  {
   "cell_type": "markdown",
   "id": "d655ec43-655f-46ac-ae16-b98dac23c60c",
   "metadata": {},
   "source": [
    "# Data Science Tools and Ecosystem"
   ]
  },
  {
   "cell_type": "markdown",
   "id": "0b2dc06c-47b5-4d18-b564-6b3cba58709e",
   "metadata": {},
   "source": [
    "    This notebook tries to summarize Data Science tools and his Ecosystem"
   ]
  },
  {
   "cell_type": "markdown",
   "id": "914ce83b-b6ee-4756-8615-e43c142ba6e5",
   "metadata": {},
   "source": [
    "        Some of the common lenguages used for Data Science are: \n",
    "            1. Python: Because it is easy to write and read, it's high level nature make them good for\n",
    "            eficiency and readability. It can use artificial \n",
    "            intelligence and has a lot of libraries for data handling such as pandas, Pyplot and Scikit\n",
    "            learn for AI.\n",
    "            2. R: Is commonly used for statistical analysis, also has a lot of libraries for AI and make \n",
    "            models, do you can also show graphs like in pyplot, \n",
    "            because is operations are vectorized it makes easy the analysis\n",
    "            3. SQL: Because the need of store data, SQL is essential for storing, updating and querying \n",
    "            information, this type of data, structured data are the\n",
    "            focus of attention for data analyst.\n",
    "        There are a lot more lenguages, we mention a few here but hopefully we would learn a lot more in \n",
    "        the path of becoming a data scientist"
   ]
  },
  {
   "cell_type": "markdown",
   "id": "5b740905-55a1-4332-a2b0-32c41a9ae267",
   "metadata": {},
   "source": [
    "        Some of the common libraries use for data science are:\n",
    "            1. Pandas: Which work with data sets, help you to analyze, explore, manipulate and clean data\n",
    "            which is crucial for ETL and study data\n",
    "            2. Numpy: Is used for vectorized operation, avoid loops and it help at realizing operation \n",
    "            on a large vectors based on conditions\n",
    "            3. ggplot2 from R, is used for displaying graphs has a lot of customization that help you to \n",
    "            any graph you need in a statistical analysis"
   ]
  },
  {
   "cell_type": "markdown",
   "id": "5875127d-37ab-4362-adc6-57b54333acf5",
   "metadata": {},
   "source": [
    "| Data Science Tools      |\n",
    "|-------------------------|\n",
    "| Jupyter Notebook        |\n",
    "| RStudio                 |\n",
    "| Apache Hadoop         |"
   ]
  },
  {
   "cell_type": "markdown",
   "id": "866de76c-6707-42a3-abf1-8b0583288cdf",
   "metadata": {},
   "source": [
    "### Below are a few examples of evaluation arithmetic expression in python"
   ]
  },
  {
   "cell_type": "code",
   "execution_count": 3,
   "id": "58f8faf5-8847-461d-98fa-b52f27bd5291",
   "metadata": {},
   "outputs": [
    {
     "data": {
      "text/plain": [
       "17"
      ]
     },
     "execution_count": 3,
     "metadata": {},
     "output_type": "execute_result"
    }
   ],
   "source": [
    "#This is a simple arithmetic expression to multiply then add an interger\n",
    "(3*4)+5"
   ]
  },
  {
   "cell_type": "code",
   "execution_count": 4,
   "id": "eb60da79-573e-4016-9fff-3077a0fa8ec6",
   "metadata": {},
   "outputs": [
    {
     "data": {
      "text/plain": [
       "3.3333333333333335"
      ]
     },
     "execution_count": 4,
     "metadata": {},
     "output_type": "execute_result"
    }
   ],
   "source": [
    "#This will convert 200 min to hours by diving by 60 sec\n",
    "200 / 60"
   ]
  },
  {
   "cell_type": "markdown",
   "id": "7d40e9a3-8aef-4da2-851f-1307b784e30a",
   "metadata": {},
   "source": [
    "___Objetives___\n",
    "* List popular programing lenguages for Data Science\n",
    "* List popular libraries used for Data Science\n",
    "* List popular Data Science tools"
   ]
  },
  {
   "cell_type": "markdown",
   "id": "bd7e5b6f-39f7-4dad-9e97-c21a0091e35d",
   "metadata": {},
   "source": [
    "## Author:\n",
    "Rios Ruiz Jorge Diego"
   ]
  },
  {
   "cell_type": "code",
   "execution_count": null,
   "id": "0331fa57-0738-4b23-8844-4a72b017b07d",
   "metadata": {},
   "outputs": [],
   "source": []
  }
 ],
 "metadata": {
  "kernelspec": {
   "display_name": "Python 3 (ipykernel)",
   "language": "python",
   "name": "python3"
  },
  "language_info": {
   "codemirror_mode": {
    "name": "ipython",
    "version": 3
   },
   "file_extension": ".py",
   "mimetype": "text/x-python",
   "name": "python",
   "nbconvert_exporter": "python",
   "pygments_lexer": "ipython3",
   "version": "3.11.9"
  }
 },
 "nbformat": 4,
 "nbformat_minor": 5
}
